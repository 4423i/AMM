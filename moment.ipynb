{
 "cells": [
  {
   "cell_type": "code",
   "execution_count": 1,
   "metadata": {},
   "outputs": [],
   "source": [
    "import numpy as np\n",
    "import pandas as pd\n",
    "import matplotlib.pyplot as plt\n",
    "from rich import print\n",
    "from scipy.optimize import curve_fit\n",
    "from decimal import Decimal, ROUND_HALF_UP\n",
    "\n",
    "plt.rcParams['font.size'] = 21\n",
    "plt.rcParams['lines.linewidth'] = 2"
   ]
  },
  {
   "cell_type": "code",
   "execution_count": 3,
   "metadata": {},
   "outputs": [
    {
     "data": {
      "text/html": [
       "<pre style=\"white-space:pre;overflow-x:auto;line-height:normal;font-family:Menlo,'DejaVu Sans Mono',consolas,'Courier New',monospace\"><span style=\"color: #008080; text-decoration-color: #008080; font-weight: bold\">1</span> moments\n",
       "</pre>\n"
      ],
      "text/plain": [
       "\u001b[1;36m1\u001b[0m moments\n"
      ]
     },
     "metadata": {},
     "output_type": "display_data"
    },
    {
     "data": {
      "text/html": [
       "<pre style=\"white-space:pre;overflow-x:auto;line-height:normal;font-family:Menlo,'DejaVu Sans Mono',consolas,'Courier New',monospace\">Time: theory.<span style=\"color: #008080; text-decoration-color: #008080; font-weight: bold\">1.1704500000000002</span> exp.<span style=\"color: #008080; text-decoration-color: #008080; font-weight: bold\">1.4009998051898667</span>\n",
       "</pre>\n"
      ],
      "text/plain": [
       "Time: theory.\u001b[1;36m1.1704500000000002\u001b[0m exp.\u001b[1;36m1.4009998051898667\u001b[0m\n"
      ]
     },
     "metadata": {},
     "output_type": "display_data"
    },
    {
     "data": {
      "text/html": [
       "<pre style=\"white-space:pre;overflow-x:auto;line-height:normal;font-family:Menlo,'DejaVu Sans Mono',consolas,'Courier New',monospace\">Size: theory.<span style=\"color: #008080; text-decoration-color: #008080; font-weight: bold\">2.002917</span> exp.<span style=\"color: #008080; text-decoration-color: #008080; font-weight: bold\">1.715584046088833</span>\n",
       "</pre>\n"
      ],
      "text/plain": [
       "Size: theory.\u001b[1;36m2.002917\u001b[0m exp.\u001b[1;36m1.715584046088833\u001b[0m\n"
      ]
     },
     "metadata": {},
     "output_type": "display_data"
    },
    {
     "data": {
      "text/html": [
       "<pre style=\"white-space:pre;overflow-x:auto;line-height:normal;font-family:Menlo,'DejaVu Sans Mono',consolas,'Courier New',monospace\">Area: theory.<span style=\"color: #008080; text-decoration-color: #008080; font-weight: bold\">0.7395180000000001</span> exp.<span style=\"color: #008080; text-decoration-color: #008080; font-weight: bold\">0.8256016680278763</span>\n",
       "</pre>\n"
      ],
      "text/plain": [
       "Area: theory.\u001b[1;36m0.7395180000000001\u001b[0m exp.\u001b[1;36m0.8256016680278763\u001b[0m\n"
      ]
     },
     "metadata": {},
     "output_type": "display_data"
    },
    {
     "data": {
      "text/html": [
       "<pre style=\"white-space:pre;overflow-x:auto;line-height:normal;font-family:Menlo,'DejaVu Sans Mono',consolas,'Courier New',monospace\"><span style=\"color: #008080; text-decoration-color: #008080; font-weight: bold\">2</span> moments\n",
       "</pre>\n"
      ],
      "text/plain": [
       "\u001b[1;36m2\u001b[0m moments\n"
      ]
     },
     "metadata": {},
     "output_type": "display_data"
    },
    {
     "data": {
      "text/html": [
       "<pre style=\"white-space:pre;overflow-x:auto;line-height:normal;font-family:Menlo,'DejaVu Sans Mono',consolas,'Courier New',monospace\">Time: theory.<span style=\"color: #008080; text-decoration-color: #008080; font-weight: bold\">2.61545</span> exp.<span style=\"color: #008080; text-decoration-color: #008080; font-weight: bold\">2.857241458896456</span>\n",
       "</pre>\n"
      ],
      "text/plain": [
       "Time: theory.\u001b[1;36m2.61545\u001b[0m exp.\u001b[1;36m2.857241458896456\u001b[0m\n"
      ]
     },
     "metadata": {},
     "output_type": "display_data"
    },
    {
     "data": {
      "text/html": [
       "<pre style=\"white-space:pre;overflow-x:auto;line-height:normal;font-family:Menlo,'DejaVu Sans Mono',consolas,'Courier New',monospace\">Size: theory.<span style=\"color: #008080; text-decoration-color: #008080; font-weight: bold\">4.255917</span> exp.<span style=\"color: #008080; text-decoration-color: #008080; font-weight: bold\">3.56271495073511</span>\n",
       "</pre>\n"
      ],
      "text/plain": [
       "Size: theory.\u001b[1;36m4.255917\u001b[0m exp.\u001b[1;36m3.56271495073511\u001b[0m\n"
      ]
     },
     "metadata": {},
     "output_type": "display_data"
    },
    {
     "data": {
      "text/html": [
       "<pre style=\"white-space:pre;overflow-x:auto;line-height:normal;font-family:Menlo,'DejaVu Sans Mono',consolas,'Courier New',monospace\">Area: theory.<span style=\"color: #008080; text-decoration-color: #008080; font-weight: bold\">1.7375180000000001</span> exp.<span style=\"color: #008080; text-decoration-color: #008080; font-weight: bold\">1.7672989428087271</span>\n",
       "</pre>\n"
      ],
      "text/plain": [
       "Area: theory.\u001b[1;36m1.7375180000000001\u001b[0m exp.\u001b[1;36m1.7672989428087271\u001b[0m\n"
      ]
     },
     "metadata": {},
     "output_type": "display_data"
    },
    {
     "data": {
      "text/html": [
       "<pre style=\"white-space:pre;overflow-x:auto;line-height:normal;font-family:Menlo,'DejaVu Sans Mono',consolas,'Courier New',monospace\"><span style=\"color: #008080; text-decoration-color: #008080; font-weight: bold\">3</span> moments\n",
       "</pre>\n"
      ],
      "text/plain": [
       "\u001b[1;36m3\u001b[0m moments\n"
      ]
     },
     "metadata": {},
     "output_type": "display_data"
    },
    {
     "data": {
      "text/html": [
       "<pre style=\"white-space:pre;overflow-x:auto;line-height:normal;font-family:Menlo,'DejaVu Sans Mono',consolas,'Courier New',monospace\">Time: theory.<span style=\"color: #008080; text-decoration-color: #008080; font-weight: bold\">4.06045</span> exp.<span style=\"color: #008080; text-decoration-color: #008080; font-weight: bold\">4.3419493866757</span>\n",
       "</pre>\n"
      ],
      "text/plain": [
       "Time: theory.\u001b[1;36m4.06045\u001b[0m exp.\u001b[1;36m4.3419493866757\u001b[0m\n"
      ]
     },
     "metadata": {},
     "output_type": "display_data"
    },
    {
     "data": {
      "text/html": [
       "<pre style=\"white-space:pre;overflow-x:auto;line-height:normal;font-family:Menlo,'DejaVu Sans Mono',consolas,'Courier New',monospace\">Size: theory.<span style=\"color: #008080; text-decoration-color: #008080; font-weight: bold\">6.508917000000001</span> exp.<span style=\"color: #008080; text-decoration-color: #008080; font-weight: bold\">5.456212325704962</span>\n",
       "</pre>\n"
      ],
      "text/plain": [
       "Size: theory.\u001b[1;36m6.508917000000001\u001b[0m exp.\u001b[1;36m5.456212325704962\u001b[0m\n"
      ]
     },
     "metadata": {},
     "output_type": "display_data"
    },
    {
     "data": {
      "text/html": [
       "<pre style=\"white-space:pre;overflow-x:auto;line-height:normal;font-family:Menlo,'DejaVu Sans Mono',consolas,'Courier New',monospace\">Area: theory.<span style=\"color: #008080; text-decoration-color: #008080; font-weight: bold\">2.735518</span> exp.<span style=\"color: #008080; text-decoration-color: #008080; font-weight: bold\">2.7322767762321405</span>\n",
       "</pre>\n"
      ],
      "text/plain": [
       "Area: theory.\u001b[1;36m2.735518\u001b[0m exp.\u001b[1;36m2.7322767762321405\u001b[0m\n"
      ]
     },
     "metadata": {},
     "output_type": "display_data"
    },
    {
     "data": {
      "text/html": [
       "<pre style=\"white-space:pre;overflow-x:auto;line-height:normal;font-family:Menlo,'DejaVu Sans Mono',consolas,'Courier New',monospace\"><span style=\"color: #008080; text-decoration-color: #008080; font-weight: bold\">4</span> moments\n",
       "</pre>\n"
      ],
      "text/plain": [
       "\u001b[1;36m4\u001b[0m moments\n"
      ]
     },
     "metadata": {},
     "output_type": "display_data"
    },
    {
     "data": {
      "text/html": [
       "<pre style=\"white-space:pre;overflow-x:auto;line-height:normal;font-family:Menlo,'DejaVu Sans Mono',consolas,'Courier New',monospace\">Time: theory.<span style=\"color: #008080; text-decoration-color: #008080; font-weight: bold\">5.505450000000001</span> exp.<span style=\"color: #008080; text-decoration-color: #008080; font-weight: bold\">5.830371612335065</span>\n",
       "</pre>\n"
      ],
      "text/plain": [
       "Time: theory.\u001b[1;36m5.505450000000001\u001b[0m exp.\u001b[1;36m5.830371612335065\u001b[0m\n"
      ]
     },
     "metadata": {},
     "output_type": "display_data"
    },
    {
     "data": {
      "text/html": [
       "<pre style=\"white-space:pre;overflow-x:auto;line-height:normal;font-family:Menlo,'DejaVu Sans Mono',consolas,'Courier New',monospace\">Size: theory.<span style=\"color: #008080; text-decoration-color: #008080; font-weight: bold\">8.761917</span> exp.<span style=\"color: #008080; text-decoration-color: #008080; font-weight: bold\">7.365498807763394</span>\n",
       "</pre>\n"
      ],
      "text/plain": [
       "Size: theory.\u001b[1;36m8.761917\u001b[0m exp.\u001b[1;36m7.365498807763394\u001b[0m\n"
      ]
     },
     "metadata": {},
     "output_type": "display_data"
    },
    {
     "data": {
      "text/html": [
       "<pre style=\"white-space:pre;overflow-x:auto;line-height:normal;font-family:Menlo,'DejaVu Sans Mono',consolas,'Courier New',monospace\">Area: theory.<span style=\"color: #008080; text-decoration-color: #008080; font-weight: bold\">3.733518</span> exp.<span style=\"color: #008080; text-decoration-color: #008080; font-weight: bold\">3.704519816838902</span>\n",
       "</pre>\n"
      ],
      "text/plain": [
       "Area: theory.\u001b[1;36m3.733518\u001b[0m exp.\u001b[1;36m3.704519816838902\u001b[0m\n"
      ]
     },
     "metadata": {},
     "output_type": "display_data"
    },
    {
     "data": {
      "text/html": [
       "<pre style=\"white-space:pre;overflow-x:auto;line-height:normal;font-family:Menlo,'DejaVu Sans Mono',consolas,'Courier New',monospace\"><span style=\"color: #008080; text-decoration-color: #008080; font-weight: bold\">5</span> moments\n",
       "</pre>\n"
      ],
      "text/plain": [
       "\u001b[1;36m5\u001b[0m moments\n"
      ]
     },
     "metadata": {},
     "output_type": "display_data"
    },
    {
     "data": {
      "text/html": [
       "<pre style=\"white-space:pre;overflow-x:auto;line-height:normal;font-family:Menlo,'DejaVu Sans Mono',consolas,'Courier New',monospace\">Time: theory.<span style=\"color: #008080; text-decoration-color: #008080; font-weight: bold\">6.950450000000001</span> exp.<span style=\"color: #008080; text-decoration-color: #008080; font-weight: bold\">7.321380328859828</span>\n",
       "</pre>\n"
      ],
      "text/plain": [
       "Time: theory.\u001b[1;36m6.950450000000001\u001b[0m exp.\u001b[1;36m7.321380328859828\u001b[0m\n"
      ]
     },
     "metadata": {},
     "output_type": "display_data"
    },
    {
     "data": {
      "text/html": [
       "<pre style=\"white-space:pre;overflow-x:auto;line-height:normal;font-family:Menlo,'DejaVu Sans Mono',consolas,'Courier New',monospace\">Size: theory.<span style=\"color: #008080; text-decoration-color: #008080; font-weight: bold\">11.014917</span> exp.<span style=\"color: #008080; text-decoration-color: #008080; font-weight: bold\">9.222501048152482</span>\n",
       "</pre>\n"
      ],
      "text/plain": [
       "Size: theory.\u001b[1;36m11.014917\u001b[0m exp.\u001b[1;36m9.222501048152482\u001b[0m\n"
      ]
     },
     "metadata": {},
     "output_type": "display_data"
    },
    {
     "data": {
      "text/html": [
       "<pre style=\"white-space:pre;overflow-x:auto;line-height:normal;font-family:Menlo,'DejaVu Sans Mono',consolas,'Courier New',monospace\">Area: theory.<span style=\"color: #008080; text-decoration-color: #008080; font-weight: bold\">4.7315179999999994</span> exp.<span style=\"color: #008080; text-decoration-color: #008080; font-weight: bold\">4.680768871499848</span>\n",
       "</pre>\n"
      ],
      "text/plain": [
       "Area: theory.\u001b[1;36m4.7315179999999994\u001b[0m exp.\u001b[1;36m4.680768871499848\u001b[0m\n"
      ]
     },
     "metadata": {},
     "output_type": "display_data"
    }
   ],
   "source": [
    "n = [1,2,3,4,5,6]\n",
    "Ls = [2**i for i in n]\n",
    "iteration = 10**4\n",
    "\n",
    "\n",
    "logic = 'parallel'\n",
    "def func(x, a, b):\n",
    "    return a*x + b\n",
    "for q in [1,2,3,4,5]:\n",
    "    print(f'{q} moments')\n",
    "    Tx = []\n",
    "    Ty = []\n",
    "    tau_t = 1.19\n",
    "    D_t = 1.445\n",
    "    Sx = []\n",
    "    Sy = []\n",
    "    tau_s = 1.111\n",
    "    D_s = 2.253\n",
    "    Ax = []\n",
    "    Ay = []\n",
    "    tau_a = 1.259\n",
    "    D_a = 0.998\n",
    "    for L in Ls:\n",
    "        df = pd.read_csv(f'data/{logic}/{L}_{iteration}.dat',header=0)\n",
    "        #df = df[df['size'] != 0]\n",
    "        mean_time = (df['time']**q).mean()\n",
    "        Tx.append(np.log(L))\n",
    "        Ty.append(np.log(mean_time))\n",
    "        mean_size = (df['size']**q).mean()\n",
    "        Sx.append(np.log(L))\n",
    "        Sy.append(np.log(mean_size))\n",
    "        mean_area = (df['area']**q).mean()\n",
    "        Ax.append(np.log(L))\n",
    "        Ay.append(np.log(mean_area))\n",
    "    popt, pcov = curve_fit(func, Tx, Ty)\n",
    "    print(f'Time: theory.{D_t*(q+1-tau_t)} exp.{popt[0]}')\n",
    "    popt, pcov = curve_fit(func, Sx, Sy)\n",
    "    print(f'Size: theory.{D_s*(q+1-tau_s)} exp.{popt[0]}')\n",
    "    popt, pcov = curve_fit(func, Ax, Ay)\n",
    "    print(f'Area: theory.{D_a*(q+1-tau_a)} exp.{popt[0]}')"
   ]
  }
 ],
 "metadata": {
  "kernelspec": {
   "display_name": "Python 3",
   "language": "python",
   "name": "python3"
  },
  "language_info": {
   "codemirror_mode": {
    "name": "ipython",
    "version": 3
   },
   "file_extension": ".py",
   "mimetype": "text/x-python",
   "name": "python",
   "nbconvert_exporter": "python",
   "pygments_lexer": "ipython3",
   "version": "3.10.13"
  }
 },
 "nbformat": 4,
 "nbformat_minor": 2
}
